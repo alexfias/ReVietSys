{
 "cells": [
  {
   "cell_type": "code",
   "execution_count": 1,
   "metadata": {},
   "outputs": [],
   "source": [
    "import pypsa \n",
    "import atlite \n",
    "import vresutils.shapes as vshapes\n",
    "from vresutils.graph import voronoi_partition_pts\n",
    "import geopandas as gpd\n",
    "import powerplantmatching as pm\n",
    "import pandas as pd\n",
    "from scipy.spatial import KDTree\n",
    "import numpy as np\n",
    "import geopandas as gpd\n",
    "\n",
    "from pypsa.opt import Constraint as Con\n",
    "\n",
    "import matplotlib.pyplot as plt\n",
    "%matplotlib inline\n",
    "import xarray as xr"
   ]
  },
  {
   "cell_type": "code",
   "execution_count": 2,
   "metadata": {
    "scrolled": true
   },
   "outputs": [
    {
     "name": "stdout",
     "output_type": "stream",
     "text": [
      "resi\r\n"
     ]
    }
   ],
   "source": [
    "!hostname"
   ]
  },
  {
   "cell_type": "markdown",
   "metadata": {},
   "source": [
    "# Build Model"
   ]
  },
  {
   "cell_type": "code",
   "execution_count": 21,
   "metadata": {
    "scrolled": false
   },
   "outputs": [
    {
     "name": "stderr",
     "output_type": "stream",
     "text": [
      "INFO:pypsa.io:Imported network original-model_original-data has buses, carriers, generators, lines, loads\n"
     ]
    },
    {
     "name": "stdout",
     "output_type": "stream",
     "text": [
      "Serving call to countries from file vresutils.shapes.countries_ver3__subset.VN.pickle of cache: 334.0 usec\n"
     ]
    },
    {
     "name": "stderr",
     "output_type": "stream",
     "text": [
      "INFO:atlite.cutout:Assuming a view into the prepared cutout: <Cutout vietnam-2015-2016-era5 x=101.10-109.80 y=23.10-8.10 time=2015/1-2016/12 prepared>\n"
     ]
    },
    {
     "name": "stdout",
     "output_type": "stream",
     "text": [
      "solar\n",
      "wind\n",
      "hydro\n"
     ]
    },
    {
     "name": "stderr",
     "output_type": "stream",
     "text": [
      "INFO:pypsa.io:Exported network vietnam.nc has loads, generators, buses, storage_units, carriers, lines\n"
     ]
    },
    {
     "data": {
      "text/plain": [
       "<xarray.Dataset>\n",
       "Dimensions:                         (buses_i: 46, carriers_i: 8, generators_i: 322, generators_t_p_max_pu_i: 92, lines_i: 65, loads_i: 46, loads_t_p_set_i: 46, snapshots: 17544, storage_units_i: 46, storage_units_t_inflow_i: 46)\n",
       "Coordinates:\n",
       "  * snapshots                       (snapshots) datetime64[ns] 2015-01-01 ...\n",
       "  * loads_i                         (loads_i) object 'HiepHoa' 'LaiChauH' ...\n",
       "  * loads_t_p_set_i                 (loads_t_p_set_i) object 'HiepHoa' ...\n",
       "  * generators_i                    (generators_i) object 'CongThanh hard coal' ...\n",
       "  * generators_t_p_max_pu_i         (generators_t_p_max_pu_i) object 'HiepHoa solar' ...\n",
       "  * buses_i                         (buses_i) object 'HiepHoa' 'LaiChauH' ...\n",
       "  * storage_units_i                 (storage_units_i) object 'ChonThanh hydro' ...\n",
       "  * storage_units_t_inflow_i        (storage_units_t_inflow_i) object 'CauBong hydro' ...\n",
       "  * carriers_i                      (carriers_i) object 'wind' 'solar' ...\n",
       "  * lines_i                         (lines_i) object '1' '2' '3' '4' '5' '6' ...\n",
       "Data variables:\n",
       "    snapshots_weightings            (snapshots) float64 1.0 1.0 1.0 1.0 1.0 ...\n",
       "    loads_bus                       (loads_i) object 'HiepHoa' 'LaiChauH' ...\n",
       "    loads_t_p_set                   (snapshots, loads_t_p_set_i) float64 369.2 ...\n",
       "    generators_bus                  (generators_i) object 'CongThanh' ...\n",
       "    generators_capital_cost         (generators_i) float64 3.75 101.0 3.75 ...\n",
       "    generators_carrier              (generators_i) object 'hard coal' 'wind' ...\n",
       "    generators_component            (generators_i) object 'PP' 'PP' 'PP' ...\n",
       "    generators_marginal_cost        (generators_i) float64 10.6 0.015 10.6 ...\n",
       "    generators_max_hours            (generators_i) float64 nan nan nan nan ...\n",
       "    generators_p_nom                (generators_i) float64 600.0 30.0 440.0 ...\n",
       "    generators_p_nom_extendable     (generators_i) bool True True True True ...\n",
       "    generators_p_nom_max            (generators_i) float64 inf 1.018e+05 inf ...\n",
       "    generators_p_nom_min            (generators_i) float64 600.0 30.0 440.0 ...\n",
       "    generators_weight               (generators_i) int64 1 1 1 1 1 1 1 1 1 1 ...\n",
       "    generators_t_p_max_pu           (snapshots, generators_t_p_max_pu_i) float64 2.675e-05 ...\n",
       "    buses_area                      (buses_i) float64 nan nan nan nan nan ...\n",
       "    buses_area_offshore             (buses_i) float64 nan nan nan nan nan ...\n",
       "    buses_country                   (buses_i) object 'VN' 'VN' 'VN' 'VN' ...\n",
       "    buses_v_nom                     (buses_i) float64 500.0 500.0 500.0 ...\n",
       "    buses_x                         (buses_i) float64 105.9 103.0 105.9 ...\n",
       "    buses_y                         (buses_i) float64 21.34 22.14 21.16 ...\n",
       "    buses_substation_lv             (buses_i) bool True True True True True ...\n",
       "    storage_units_bus               (storage_units_i) object 'ChonThanh' ...\n",
       "    storage_units_capital_cost      (storage_units_i) float64 2.0 2.0 2.0 ...\n",
       "    storage_units_carrier           (storage_units_i) object 'hydro' 'hydro' ...\n",
       "    storage_units_component         (storage_units_i) object 'Store' 'Store' ...\n",
       "    storage_units_marginal_cost     (storage_units_i) float64 0.1 0.1 0.1 ...\n",
       "    storage_units_max_hours         (storage_units_i) float64 1.037 5.537 ...\n",
       "    storage_units_p_nom             (storage_units_i) float64 282.0 21.0 ...\n",
       "    storage_units_p_nom_extendable  (storage_units_i) bool True True True ...\n",
       "    storage_units_p_nom_max         (storage_units_i) float64 310.2 23.1 ...\n",
       "    storage_units_p_nom_min         (storage_units_i) float64 282.0 21.0 ...\n",
       "    storage_units_t_inflow          (snapshots, storage_units_t_inflow_i) float64 4.84e-05 ...\n",
       "    carriers_short_name             (carriers_i) object 'W' 'S' 'G' 'H' 'B' ...\n",
       "    lines_bus0                      (lines_i) object 'LaiChauH' 'LaiChau' ...\n",
       "    lines_bus1                      (lines_i) object 'SonLa' 'SonLa' ...\n",
       "    lines_length                    (lines_i) float64 158.5 160.0 1.47 4.8 ...\n",
       "    lines_b                         (lines_i) float64 0.6726 0.6788 0.006238 ...\n",
       "    lines_r                         (lines_i) float64 4.39 4.431 0.04072 ...\n",
       "    lines_x                         (lines_i) float64 44.68 45.1 0.4144 ...\n",
       "    lines_s_nom_extendable          (lines_i) bool True True True True True ...\n",
       "    lines_capital_cost              (lines_i) float64 158.5 160.0 1.47 4.8 ...\n",
       "    lines_type                      (lines_i) object '490-AL1/64-ST1A 380.0' ...\n",
       "    lines_s_nom_min                 (lines_i) float64 831.4 831.4 831.4 ...\n",
       "Attributes:\n",
       "    network_srid:           4326\n",
       "    network_pypsa_version:  0.13.0\n",
       "    network_name:           "
      ]
     },
     "execution_count": 21,
     "metadata": {},
     "output_type": "execute_result"
    }
   ],
   "source": [
    "n = pypsa.Network('original-model_original-data')\n",
    "\n",
    "#tranfer loads, fill NaNs in DongAnh with load values that are nearby its first entry\n",
    "n.loads_t.p_set['DongAnh'] = n.loads_t.p_set['NghiSon']\n",
    "#rescale loads (in MW) to approx value of\n",
    "#https://www.worlddata.info/asia/vietnam/energy-consumption.php (in billion kWh)\n",
    "n.loads_t.p_set = n.loads_t.p_set / n.loads_t.p_set.sum().sum() * (134.3 * 1e9) / 1e3\n",
    "loads = n.loads_t.p_set.fillna(0).copy()\n",
    "n.set_snapshots(pd.DatetimeIndex(start='2015', end='2017', closed='left', freq='h'))\n",
    "n.loads_t.p_set = (pd.concat([loads.rename(index = lambda ds : ds - pd.Timedelta(270 - i * 52,'W'))\n",
    "                                 for i in [0,1,2]])\n",
    "                              [lambda df : ~df.index.duplicated()].reindex(n.snapshots))\n",
    "\n",
    "n.lines['type'] = '490-AL1/64-ST1A 380.0'\n",
    "n.lines['s_nom_min'] = (np.sqrt(3) * n.lines['type'].map(n.line_types.i_nom) *\n",
    "                        n.lines.bus0.map(n.buses.v_nom) * n.lines.num_parallel)\n",
    "\n",
    "\n",
    "storages = pd.read_csv('storage_units.csv', index_col=0)\n",
    "\n",
    "\n",
    "#drop generators\n",
    "n.mremove('Generator', n.generators.index)\n",
    "n.buses['substation_lv'] = True # assume all buses are substations\n",
    "\n",
    "#add generators from pm \n",
    "pm.config.set_target_countries('Vietnam')\n",
    "ppl = (pm.data.WRI(filter_other_dbs=False) #could also match with pm.data.CARMA()\n",
    "        .replace({'Fueltype': {'Gas': 'Ocgt'}}))\n",
    "ppl.loc[ppl.Fueltype=='Hydro', 'Set'] = 'Store'\n",
    "\n",
    "pm.export.to_pypsa_network(ppl, n)\n",
    "n.generators = n.generators.assign(p_nom_min = n.generators.p_nom).assign(p_nom_extendable = True)\n",
    "\n",
    "n.storage_units = (n.storage_units.assign(max_hours = \n",
    "                                         storages.max_hours.reindex(n.storage_units.index).fillna(0))\n",
    "                                 .assign(p_nom_min = n.storage_units.p_nom)\n",
    "                                 .assign(p_nom_extendable = True))\n",
    "\n",
    "#add artificial generators for vres \n",
    "carriers = ['wind', 'solar', 'bioenergy', 'hard coal', 'oil', 'ocgt', 'nuclear']\n",
    "for carrier in carriers:\n",
    "    not_included = ((n.buses.index).difference(\n",
    "                        n.generators[n.generators.carrier == carrier].set_index('bus').index) )\n",
    "    n.madd('Generator', names = not_included + ' ' + carrier,\n",
    "                        bus = not_included, carrier=carrier, \n",
    "                        p_nom_extendable = True) \n",
    "\n",
    "not_included = ((n.buses.index).difference(\n",
    "                    n.storage_units[n.storage_units.carrier == 'hydro'].set_index('bus').index) )\n",
    "n.madd('StorageUnit', names = not_included + ' ' + 'hydro',\n",
    "                    bus = not_included, carrier='hydro',\n",
    "                    p_nom_extendable = True) \n",
    "\n",
    "\n",
    "vietshape = vshapes.countries(subset=['VN'])['VN']\n",
    "onshore_locs = n.buses.loc[:, [\"x\", \"y\"]]\n",
    "regions = gpd.GeoDataFrame({\n",
    "        'geometry': voronoi_partition_pts(onshore_locs.values, vietshape),\n",
    "        'country': 'VN'}, index=onshore_locs.index).rename_axis('bus')\n",
    "regions.crs = {'init': u'epsg:4326'}\n",
    "regions['Area'] = regions.geometry.to_crs({'init': 'epsg:3395'}).map(lambda p: p.area / 10**6)\n",
    "\n",
    "\n",
    "#%% add cutout\n",
    "    \n",
    "#TODO recalculate cutout\n",
    "cutout = atlite.Cutout(\"vietnam-2015-2016-era5\", \n",
    "                       module='era5', \n",
    "                       bounds=[101,8, 110, 24],\n",
    "                       years=slice(2015,2016, None))\n",
    "\n",
    "cells = gpd.GeoDataFrame({'geometry' : cutout.grid_cells()})\n",
    "cells.crs = {'init': u'epsg:4326'}\n",
    "cells['Area'] = cells.geometry.to_crs({'init': 'epsg:3395'}).map(lambda p: p.area / 10**6)\n",
    "\n",
    "meta = ( cutout.meta.drop(['height', 'time', 'year-month', 'lat', 'lon'])\n",
    "                 .to_dataframe().reset_index() )\n",
    "\n",
    "indicatormatrix = cutout.indicatormatrix(regions.geometry)\n",
    "\n",
    "#%% add layouts\n",
    "\n",
    "def custum_layout(meta, cap_per_sq_km):\n",
    "    return meta.assign(caps = cells.Area * cap_per_sq_km).set_index(['x','y']) \\\n",
    "                .fillna(0).to_xarray().transpose().caps\n",
    "\n",
    "#hydro\n",
    "kdtree = KDTree(meta[['x','y']].values)\n",
    "hydro = ppl[ppl.Fueltype.isin(['hydro'])] \n",
    "hydro_grouped = (hydro.assign(\n",
    "                cell = meta.index[kdtree.query(hydro[['lon','lat']].values)[1]])\n",
    "                             .groupby(['Fueltype','cell']).Capacity.sum() )\n",
    "\n",
    "#fill p_nom_max density for unbuilt capacities\n",
    "#alternative could be 25% quantile of cell density \n",
    "hydro_missing_cap = ((n.storage_units.groupby(['carrier', 'bus']).p_nom.sum()['hydro'] / regions.Area)\n",
    "                        [lambda ds:ds != 0].min())\n",
    "\n",
    "#expand upper bound for existing capacities by 15% \n",
    "hydro_layout = (pd.concat([meta, hydro_grouped.unstack(0)], axis=1)\n",
    "          .set_index(['x','y']).mul(1.15) \n",
    "          .fillna(hydro_missing_cap).to_xarray().transpose())\n",
    "\n",
    "#%% calaculate profile via atlite\n",
    "\n",
    "method = {'wind':'wind', \n",
    "          'solar':'pv', \n",
    "          'hydro':'runoff'}\n",
    "\n",
    "resource = {'wind' : {'turbine': 'Vestas_V112_3MW',\n",
    "                         'layout': custum_layout(meta, 10),\n",
    "                         'per_unit':True, 'smooth':True\n",
    "                         }, \n",
    "            'solar' : {'panel': 'CSi', 'orientation': 'latitude_optimal',\n",
    "                       'layout' : custum_layout(meta, 170), \n",
    "                       'per_unit':True},\n",
    "            'hydro' : {'layout': custum_layout(meta, hydro_missing_cap), \n",
    "                     'per_unit':False,\n",
    "                     'smooth':True} }\n",
    "\n",
    "\n",
    "for carrier in method.keys():\n",
    "    print(carrier)\n",
    "\n",
    "    func = getattr(cutout, method[carrier])\n",
    "    profile, capacities = func(matrix=indicatormatrix, index=regions.index,\n",
    "                           return_capacity=True, **resource[carrier])\n",
    "        \n",
    "    profile = (profile.to_pandas().T.rename(columns=lambda x: x + ' ' + carrier))\n",
    "    capacities = capacities.to_series().rename(index = lambda ds: ds + ' ' + carrier) \n",
    "\n",
    "    if carrier=='hydro':\n",
    "#        assume hydro generation statistics \n",
    "#        from https://www.hydropower.org/country-profiles/vietnam\n",
    "        \n",
    "        capacities = n.storage_units.p_nom_min.where( n.storage_units.p_nom_min > 0, capacities)\n",
    "        inflow = profile * capacities\n",
    "        #assume about 10% will be spillage\n",
    "        inflow *= (120*1e6)/inflow.sum().reindex((n.storage_units.p_nom_min>0).index).sum() \n",
    "        n.storage_units_t.inflow = inflow\n",
    "        n.storage_units.p_nom_max = capacities * 1.1  \n",
    "\n",
    "    else:       \n",
    "        n.generators.loc[capacities.index, 'p_nom_max'] = capacities\n",
    "        n.generators_t.p_max_pu =  pd.concat( [n.generators_t.p_max_pu , profile], axis=1)\n",
    "\n",
    "\n",
    "#only assumptions, no research done on this yet\n",
    "costs = pd.read_csv('costs.csv', index_col=0)\n",
    "n.generators['marginal_cost'] = n.generators.carrier.map(costs.marginal)\n",
    "n.generators['capital_cost'] = n.generators.carrier.map(costs.capital)\n",
    "n.generators['weight'] = 1 \n",
    "n.storage_units['marginal_cost'] = n.storage_units.carrier.map(costs.marginal)\n",
    "n.storage_units['capital_cost'] = n.storage_units.carrier.map(costs.capital)\n",
    "n.lines.capital_cost =  n.lines.length\n",
    "\n",
    "\n",
    "#only assumptions, no research done on this yet\n",
    "n.carriers = n.carriers.rename(index= lambda ds: ds.lower()).rename(index= {'windon': 'wind'})\n",
    "co_2 = dict(zip(carriers, [0.0, 0.0, 0.0, 0.0, 0.0, 0.0, 0.0,]))\n",
    "short = dict(zip(carriers, ['W', 'S', 'B', 'C', 'O', 'G', 'N']))\n",
    "for carrier in carriers:\n",
    "    n.carriers.loc[carrier, 'co2_emissions'] = co_2[carrier]\n",
    "    n.carriers.loc[carrier, 'short_name'] = short[carrier]\n",
    "n.carriers.loc['hydro', 'co2_emissions'] = 0.0\n",
    "n.carriers.loc['hydro', 'short_name'] = 'H'\n",
    "\n",
    "n.export_to_netcdf('vietnam.nc')"
   ]
  },
  {
   "cell_type": "markdown",
   "metadata": {},
   "source": [
    "# Build Scenario"
   ]
  },
  {
   "cell_type": "code",
   "execution_count": 122,
   "metadata": {},
   "outputs": [
    {
     "name": "stderr",
     "output_type": "stream",
     "text": [
      "INFO:pypsa.io:Imported network vietnam.nc has buses, carriers, generators, lines, loads, storage_units\n"
     ]
    }
   ],
   "source": [
    "n = pypsa.Network('vietnam.nc')\n",
    "\n",
    "scenarios = pd.read_csv('scenario_limits.csv')\n",
    "scenarios = scenarios.set_index(scenarios['scenario']).drop(columns='scenario').dropna(axis=1)\n",
    "\n",
    "limits = scenarios.loc[2020]\n",
    "flexibility = 0.1"
   ]
  },
  {
   "cell_type": "code",
   "execution_count": 123,
   "metadata": {
    "scrolled": true
   },
   "outputs": [
    {
     "data": {
      "text/html": [
       "<div>\n",
       "<style scoped>\n",
       "    .dataframe tbody tr th:only-of-type {\n",
       "        vertical-align: middle;\n",
       "    }\n",
       "\n",
       "    .dataframe tbody tr th {\n",
       "        vertical-align: top;\n",
       "    }\n",
       "\n",
       "    .dataframe thead th {\n",
       "        text-align: right;\n",
       "    }\n",
       "</style>\n",
       "<table border=\"1\" class=\"dataframe\">\n",
       "  <thead>\n",
       "    <tr style=\"text-align: right;\">\n",
       "      <th></th>\n",
       "      <th>wind</th>\n",
       "      <th>solar</th>\n",
       "      <th>hydro</th>\n",
       "      <th>bioenergy</th>\n",
       "      <th>hard coal</th>\n",
       "      <th>oil</th>\n",
       "      <th>ocgt</th>\n",
       "      <th>nuclear</th>\n",
       "      <th>total_capacities</th>\n",
       "      <th>load_increase</th>\n",
       "      <th>generation_increase</th>\n",
       "      <th>renewable_share</th>\n",
       "    </tr>\n",
       "    <tr>\n",
       "      <th>scenario</th>\n",
       "      <th></th>\n",
       "      <th></th>\n",
       "      <th></th>\n",
       "      <th></th>\n",
       "      <th></th>\n",
       "      <th></th>\n",
       "      <th></th>\n",
       "      <th></th>\n",
       "      <th></th>\n",
       "      <th></th>\n",
       "      <th></th>\n",
       "      <th></th>\n",
       "    </tr>\n",
       "  </thead>\n",
       "  <tbody>\n",
       "    <tr>\n",
       "      <th>2020</th>\n",
       "      <td>800</td>\n",
       "      <td>850</td>\n",
       "      <td>21600</td>\n",
       "      <td>306</td>\n",
       "      <td>26000</td>\n",
       "      <td>1065</td>\n",
       "      <td>9000</td>\n",
       "      <td>0</td>\n",
       "      <td>60000</td>\n",
       "      <td>1.787</td>\n",
       "      <td>1.826</td>\n",
       "      <td>0.070</td>\n",
       "    </tr>\n",
       "    <tr>\n",
       "      <th>2025</th>\n",
       "      <td>2000</td>\n",
       "      <td>4000</td>\n",
       "      <td>24600</td>\n",
       "      <td>559</td>\n",
       "      <td>47600</td>\n",
       "      <td>1775</td>\n",
       "      <td>15000</td>\n",
       "      <td>0</td>\n",
       "      <td>96500</td>\n",
       "      <td>2.722</td>\n",
       "      <td>2.776</td>\n",
       "      <td>0.085</td>\n",
       "    </tr>\n",
       "    <tr>\n",
       "      <th>2030</th>\n",
       "      <td>6000</td>\n",
       "      <td>12000</td>\n",
       "      <td>27800</td>\n",
       "      <td>1407</td>\n",
       "      <td>55300</td>\n",
       "      <td>2248</td>\n",
       "      <td>19000</td>\n",
       "      <td>4600</td>\n",
       "      <td>129500</td>\n",
       "      <td>3.965</td>\n",
       "      <td>3.996</td>\n",
       "      <td>0.100</td>\n",
       "    </tr>\n",
       "  </tbody>\n",
       "</table>\n",
       "</div>"
      ],
      "text/plain": [
       "          wind  solar  hydro  bioenergy  hard coal   oil   ocgt  nuclear  \\\n",
       "scenario                                                                   \n",
       "2020       800    850  21600        306      26000  1065   9000        0   \n",
       "2025      2000   4000  24600        559      47600  1775  15000        0   \n",
       "2030      6000  12000  27800       1407      55300  2248  19000     4600   \n",
       "\n",
       "          total_capacities  load_increase  generation_increase  \\\n",
       "scenario                                                         \n",
       "2020                 60000          1.787                1.826   \n",
       "2025                 96500          2.722                2.776   \n",
       "2030                129500          3.965                3.996   \n",
       "\n",
       "          renewable_share  \n",
       "scenario                   \n",
       "2020                0.070  \n",
       "2025                0.085  \n",
       "2030                0.100  "
      ]
     },
     "execution_count": 123,
     "metadata": {},
     "output_type": "execute_result"
    }
   ],
   "source": [
    "scenarios"
   ]
  },
  {
   "cell_type": "code",
   "execution_count": 126,
   "metadata": {},
   "outputs": [
    {
     "data": {
      "text/plain": [
       "wind                     800.000\n",
       "solar                    850.000\n",
       "hydro                  21600.000\n",
       "bioenergy                306.000\n",
       "hard coal              26000.000\n",
       "oil                     1065.000\n",
       "ocgt                    9000.000\n",
       "nuclear                    0.000\n",
       "total_capacities       60000.000\n",
       "load_increase              1.787\n",
       "generation_increase        1.826\n",
       "renewable_share            0.070\n",
       "Name: 2020, dtype: float64"
      ]
     },
     "execution_count": 126,
     "metadata": {},
     "output_type": "execute_result"
    }
   ],
   "source": [
    "limits"
   ]
  },
  {
   "cell_type": "code",
   "execution_count": 127,
   "metadata": {},
   "outputs": [],
   "source": [
    "def scenario_constraints(n,snapshots,limits=None,flexibility=0.1):\n",
    "    carrier_constraints = ['wind', 'solar', 'hydro', 'bioenergy',\n",
    "                           'hard coal', 'oil', 'ocgt', 'nuclear']\n",
    "    \n",
    "    for constraint in limits.index:\n",
    "        if constraint in carrier_constraints:\n",
    "            if constraint == 'hydro':\n",
    "                index = n.storage_units[n.storage_units['carrier']==constraint].index\n",
    "                setattr(n.model,constraint+\"_limit_low\",Con(expr=sum(n.model.storage_p_nom[name] \\\n",
    "                                                          for name in index) >= limits[constraint] * (1.-flexibility)))\n",
    "                setattr(n.model,constraint+\"_limit_up\",Con(expr=sum(n.model.storage_p_nom[name] \\\n",
    "                                                          for name in index) <= limits[constraint] * (1.+flexibility)))\n",
    "            else:\n",
    "                index = n.generators[n.generators['carrier']==constraint].index\n",
    "                setattr(n.model,constraint+\"_limit_low\",Con(expr=sum(n.model.generator_p_nom[name] \\\n",
    "                                                          for name in index) >= limits[constraint] * (1.-flexibility)))\n",
    "                setattr(n.model,constraint+\"_limit_up\",Con(expr=sum(n.model.generator_p_nom[name] \\\n",
    "                                                          for name in index) <= limits[constraint] * (1.+flexibility)))\n",
    "    return\n",
    "\n",
    "\n",
    "\n",
    "def set_constraints(network, snapshots):\n",
    "    return scenario_constraints(network, snapshots, limits = limits, flexibility = flexibility)"
   ]
  },
  {
   "cell_type": "code",
   "execution_count": 128,
   "metadata": {},
   "outputs": [
    {
     "name": "stderr",
     "output_type": "stream",
     "text": [
      "INFO:pypsa.pf:Slack bus for sub-network 0 is CongThanh\n",
      "INFO:pypsa.opf:Performed preliminary steps\n",
      "INFO:pypsa.opf:Building pyomo model using `kirchhoff` formulation\n",
      "INFO:pypsa.pf:Tree slack bus is CauBong with degree 4.\n",
      "INFO:pypsa.pf:Slack bus for sub-network 0 is CongThanh\n",
      "INFO:pypsa.pf:Slack bus for sub-network 0 is CongThanh\n",
      "INFO:pypsa.opf:Solving model using gurobi\n"
     ]
    },
    {
     "name": "stdout",
     "output_type": "stream",
     "text": [
      "Solver script file: '/tmp/tmp_1_owh.gurobi.script'\n",
      "Solver log file: '/tmp/tmpkvzJKz.gurobi.log'\n",
      "Solver solution file: '/tmp/tmpPFhTdY.gurobi.txt'\n",
      "Solver problem files: ('/tmp/tmpjSkT_h.pyomo.lp',)\n"
     ]
    },
    {
     "name": "stderr",
     "output_type": "stream",
     "text": [
      "WARNING:pyomo.core:Loading a SolverResults object with a warning status into model=Linear Optimal Power Flow;\n",
      "    message from solver=Problem proven to be infeasible or unbounded.\n",
      "ERROR:pypsa.opf:Optimisation failed with status warning and terminal condition infeasibleOrUnbounded\n"
     ]
    },
    {
     "name": "stdout",
     "output_type": "stream",
     "text": [
      "WARNING: Loading a SolverResults object with a warning status into\n",
      "    model=Linear Optimal Power Flow;\n",
      "        message from solver=Problem proven to be infeasible or unbounded.\n",
      "# ==========================================================\n",
      "# = Solver Results                                         =\n",
      "# ==========================================================\n",
      "# ----------------------------------------------------------\n",
      "#   Problem Information\n",
      "# ----------------------------------------------------------\n",
      "Problem: \n",
      "- Name: x571434\n",
      "  Lower bound: -inf\n",
      "  Upper bound: inf\n",
      "  Number of objectives: 1\n",
      "  Number of constraints: 1024019\n",
      "  Number of variables: 571434\n",
      "  Number of binary variables: 0\n",
      "  Number of integer variables: 0\n",
      "  Number of continuous variables: 571434\n",
      "  Number of nonzeros: 2325427\n",
      "  Sense: minimize\n",
      "# ----------------------------------------------------------\n",
      "#   Solver Information\n",
      "# ----------------------------------------------------------\n",
      "Solver: \n",
      "- Status: warning\n",
      "  Return code: 0\n",
      "  Message: Problem proven to be infeasible or unbounded.\n",
      "  Termination condition: infeasibleOrUnbounded\n",
      "  Termination message: Problem proven to be infeasible or unbounded.\n",
      "  Wall time: 0.881294965744\n",
      "  Error rc: 0\n",
      "  Time: 6.7265958786\n"
     ]
    },
    {
     "name": "stderr",
     "output_type": "stream",
     "text": [
      "INFO:pypsa.io:Exported network vietnam_2015_2016.nc has loads, generators, buses, storage_units, carriers, lines\n"
     ]
    },
    {
     "data": {
      "text/plain": [
       "<xarray.Dataset>\n",
       "Dimensions:                         (buses_i: 46, carriers_i: 8, generators_i: 322, generators_t_p_max_pu_i: 92, lines_i: 65, loads_i: 46, loads_t_p_set_i: 46, snapshots: 17544, storage_units_i: 46, storage_units_t_inflow_i: 46)\n",
       "Coordinates:\n",
       "  * snapshots                       (snapshots) datetime64[ns] 2015-01-01 ...\n",
       "  * loads_i                         (loads_i) object 'HiepHoa' 'LaiChauH' ...\n",
       "  * loads_t_p_set_i                 (loads_t_p_set_i) object 'HiepHoa' ...\n",
       "  * generators_i                    (generators_i) object 'CongThanh hard coal' ...\n",
       "  * generators_t_p_max_pu_i         (generators_t_p_max_pu_i) object 'HiepHoa solar' ...\n",
       "  * buses_i                         (buses_i) object 'HiepHoa' 'LaiChauH' ...\n",
       "  * storage_units_i                 (storage_units_i) object 'ChonThanh hydro' ...\n",
       "  * storage_units_t_inflow_i        (storage_units_t_inflow_i) object 'CauBong hydro' ...\n",
       "  * carriers_i                      (carriers_i) object 'wind' 'solar' ...\n",
       "  * lines_i                         (lines_i) object '1' '2' '3' '4' '5' '6' ...\n",
       "Data variables:\n",
       "    snapshots_weightings            (snapshots) float64 1.0 1.0 1.0 1.0 1.0 ...\n",
       "    loads_bus                       (loads_i) object 'HiepHoa' 'LaiChauH' ...\n",
       "    loads_t_p_set                   (snapshots, loads_t_p_set_i) float64 369.2 ...\n",
       "    generators_bus                  (generators_i) object 'CongThanh' ...\n",
       "    generators_capital_cost         (generators_i) float64 3.75 101.0 3.75 ...\n",
       "    generators_carrier              (generators_i) object 'hard coal' 'wind' ...\n",
       "    generators_component            (generators_i) object 'PP' 'PP' 'PP' ...\n",
       "    generators_marginal_cost        (generators_i) float64 10.6 0.015 10.6 ...\n",
       "    generators_max_hours            (generators_i) float64 nan nan nan nan ...\n",
       "    generators_p_nom                (generators_i) float64 600.0 30.0 440.0 ...\n",
       "    generators_p_nom_extendable     (generators_i) bool True True True True ...\n",
       "    generators_p_nom_max            (generators_i) float64 inf 1.018e+05 inf ...\n",
       "    generators_p_nom_min            (generators_i) float64 600.0 30.0 440.0 ...\n",
       "    generators_weight               (generators_i) int64 1 1 1 1 1 1 1 1 1 1 ...\n",
       "    generators_control              (generators_i) object 'Slack' 'PQ' 'PQ' ...\n",
       "    generators_t_p_max_pu           (snapshots, generators_t_p_max_pu_i) float64 2.675e-05 ...\n",
       "    buses_area                      (buses_i) float64 nan nan nan nan nan ...\n",
       "    buses_area_offshore             (buses_i) float64 nan nan nan nan nan ...\n",
       "    buses_country                   (buses_i) object 'VN' 'VN' 'VN' 'VN' ...\n",
       "    buses_substation_lv             (buses_i) bool True True True True True ...\n",
       "    buses_v_nom                     (buses_i) float64 500.0 500.0 500.0 ...\n",
       "    buses_x                         (buses_i) float64 105.9 103.0 105.9 ...\n",
       "    buses_y                         (buses_i) float64 21.34 22.14 21.16 ...\n",
       "    buses_control                   (buses_i) object 'PQ' 'PQ' 'PQ' 'PQ' ...\n",
       "    buses_generator                 (buses_i) object nan nan nan nan nan nan ...\n",
       "    storage_units_bus               (storage_units_i) object 'ChonThanh' ...\n",
       "    storage_units_capital_cost      (storage_units_i) float64 2.0 2.0 2.0 ...\n",
       "    storage_units_carrier           (storage_units_i) object 'hydro' 'hydro' ...\n",
       "    storage_units_component         (storage_units_i) object 'Store' 'Store' ...\n",
       "    storage_units_marginal_cost     (storage_units_i) float64 0.1 0.1 0.1 ...\n",
       "    storage_units_max_hours         (storage_units_i) float64 1.037 5.537 ...\n",
       "    storage_units_p_nom             (storage_units_i) float64 282.0 21.0 ...\n",
       "    storage_units_p_nom_extendable  (storage_units_i) bool True True True ...\n",
       "    storage_units_p_nom_max         (storage_units_i) float64 310.2 23.1 ...\n",
       "    storage_units_p_nom_min         (storage_units_i) float64 282.0 21.0 ...\n",
       "    storage_units_t_inflow          (snapshots, storage_units_t_inflow_i) float64 4.84e-05 ...\n",
       "    carriers_short_name             (carriers_i) object 'W' 'S' 'G' 'H' 'B' ...\n",
       "    lines_b                         (lines_i) float64 0.0005477 0.0005528 ...\n",
       "    lines_bus0                      (lines_i) object 'LaiChauH' 'LaiChau' ...\n",
       "    lines_bus1                      (lines_i) object 'SonLa' 'SonLa' ...\n",
       "    lines_capital_cost              (lines_i) float64 158.5 160.0 1.47 4.8 ...\n",
       "    lines_length                    (lines_i) float64 158.5 160.0 1.47 4.8 ...\n",
       "    lines_r                         (lines_i) float64 9.352 9.438 0.08673 ...\n",
       "    lines_s_nom_extendable          (lines_i) bool True True True True True ...\n",
       "    lines_s_nom_min                 (lines_i) float64 831.4 831.4 831.4 ...\n",
       "    lines_type                      (lines_i) object '490-AL1/64-ST1A 380.0' ...\n",
       "    lines_x                         (lines_i) float64 40.1 40.47 0.3719 ...\n",
       "    lines_x_pu_eff                  (lines_i) float64 0.0001604 0.0001619 ...\n",
       "    lines_r_pu_eff                  (lines_i) float64 3.741e-05 3.775e-05 ...\n",
       "    lines_v_nom                     (lines_i) float64 500.0 500.0 500.0 ...\n",
       "Attributes:\n",
       "    network_srid:           4326\n",
       "    network_max_memusage:   6765552\n",
       "    network_pypsa_version:  0.13.0\n",
       "    network_name:           vietnam_2015_2016"
      ]
     },
     "execution_count": 128,
     "metadata": {},
     "output_type": "execute_result"
    }
   ],
   "source": [
    "n.lopf(extra_functionality = set_constraints,\n",
    "       snapshots=n.snapshots[0:1000], solver_name='gurobi', solver_options={\"threads\":4}, \n",
    "       formulation='kirchhoff', keep_files=True)\n",
    "\n",
    "n.name = 'vietnam_2015_2016'\n",
    "n.export_to_netcdf('vietnam_2015_2016.nc')"
   ]
  },
  {
   "cell_type": "markdown",
   "metadata": {},
   "source": [
    "# Plot"
   ]
  },
  {
   "cell_type": "code",
   "execution_count": 90,
   "metadata": {},
   "outputs": [
    {
     "name": "stderr",
     "output_type": "stream",
     "text": [
      "INFO:pypsa.io:Imported network vietnam_2015_2016.nc has buses, carriers, generators, lines, loads, storage_units\n"
     ]
    },
    {
     "data": {
      "text/plain": [
       "(<matplotlib.collections.PatchCollection at 0x7f9482ee6dd0>,\n",
       " <matplotlib.collections.LineCollection at 0x7f947b4c4bd0>)"
      ]
     },
     "execution_count": 90,
     "metadata": {},
     "output_type": "execute_result"
    },
    {
     "data": {
      "image/png": "[encoded data removed]",
      "text/plain": [
       "<Figure size 720x720 with 1 Axes>"
      ]
     },
     "metadata": {},
     "output_type": "display_data"
    }
   ],
   "source": [
    "n = pypsa.Network('vietnam_2015_2016.nc')\n",
    "\n",
    "#%%\n",
    "capas = n.generators.groupby(['bus','carrier']).p_nom_opt.mean().fillna(0.)\n",
    "lines = n.lines.groupby(['bus0', 'bus1']).s_nom_opt.mean().fillna(0.)\n",
    "\n",
    "capas = capas.loc[capas.index.levels[0][capas.groupby(level='bus').sum()!=0],:]\n",
    "\n",
    "plotcapas = capas\n",
    "plotlines = lines\n",
    "\n",
    "fig, ax = plt.subplots(1,1, figsize=(10,10))\n",
    "\n",
    "bus_scale = 4e4\n",
    "link_scale = 5e1\n",
    "\n",
    "colors = dict(zip(['ocgt','wind','hydro','solar', 'hard coal', 'oil', 'bioenergy', 'nuclear'],\n",
    "                  ['blue','green','navy','yellow', 'brown', 'blacl', 'darkgreen', 'lightgreen']))\n",
    "\n",
    "n.plot(bus_sizes=plotcapas/bus_scale, bus_colors=colors, ax=ax,\n",
    "             line_widths={'Link':0.0, 'Line':plotlines/link_scale},\n",
    "             line_colors={'Link':'purple', 'Line':'indianred'})"
   ]
  },
  {
   "cell_type": "code",
   "execution_count": null,
   "metadata": {},
   "outputs": [],
   "source": []
  }
 ],
 "metadata": {
  "kernelspec": {
   "display_name": "Python 2",
   "language": "python",
   "name": "python2"
  },
  "language_info": {
   "codemirror_mode": {
    "name": "ipython",
    "version": 2
   },
   "file_extension": ".py",
   "mimetype": "text/x-python",
   "name": "python",
   "nbconvert_exporter": "python",
   "pygments_lexer": "ipython2",
   "version": "2.7.12"
  }
 },
 "nbformat": 4,
 "nbformat_minor": 2
}
