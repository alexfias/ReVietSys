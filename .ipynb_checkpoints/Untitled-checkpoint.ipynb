{
 "cells": [
  {
   "cell_type": "code",
   "execution_count": 2,
   "metadata": {},
   "outputs": [],
   "source": [
    "import pypsa \n",
    "import atlite \n",
    "import vresutils.shapes as vshapes\n",
    "from vresutils.graph import voronoi_partition_pts\n",
    "import geopandas as gpd\n",
    "import powerplantmatching as pm\n",
    "import pandas as pd\n",
    "from scipy.spatial import KDTree\n",
    "%matplotlib inline"
   ]
  },
  {
   "cell_type": "code",
   "execution_count": 4,
   "metadata": {},
   "outputs": [
    {
     "name": "stderr",
     "output_type": "stream",
     "text": [
      "INFO:pypsa.io:Imported network original-model_original-data has buses, carriers, generators, lines, loads\n"
     ]
    }
   ],
   "source": [
    "n = pypsa.Network('original-model_original-data')\n",
    "n.set_snapshots(pd.DatetimeIndex(start='2015', end='2017', closed='left', freq='h'))"
   ]
  },
  {
   "cell_type": "code",
   "execution_count": 7,
   "metadata": {},
   "outputs": [],
   "source": [
    "#drop generators\n",
    "n.mremove('Generator', n.generators.index)\n",
    "n.buses['substation_lv'] = True # assume all are substations"
   ]
  },
  {
   "cell_type": "code",
   "execution_count": 8,
   "metadata": {},
   "outputs": [
    {
     "ename": "AttributeError",
     "evalue": "'module' object has no attribute 'set_target_countries'",
     "output_type": "error",
     "traceback": [
      "\u001b[0;31m---------------------------------------------------------------------------\u001b[0m",
      "\u001b[0;31mAttributeError\u001b[0m                            Traceback (most recent call last)",
      "\u001b[0;32m<ipython-input-8-2d3ad9a0fcb4>\u001b[0m in \u001b[0;36m<module>\u001b[0;34m()\u001b[0m\n\u001b[1;32m      1\u001b[0m \u001b[0;31m#add generators from pm\u001b[0m\u001b[0;34m\u001b[0m\u001b[0;34m\u001b[0m\u001b[0m\n\u001b[0;32m----> 2\u001b[0;31m \u001b[0mpm\u001b[0m\u001b[0;34m.\u001b[0m\u001b[0mconfig\u001b[0m\u001b[0;34m.\u001b[0m\u001b[0mset_target_countries\u001b[0m\u001b[0;34m(\u001b[0m\u001b[0;34m'Vietnam'\u001b[0m\u001b[0;34m)\u001b[0m\u001b[0;34m\u001b[0m\u001b[0m\n\u001b[0m\u001b[1;32m      3\u001b[0m \u001b[0mppl\u001b[0m \u001b[0;34m=\u001b[0m \u001b[0mpm\u001b[0m\u001b[0;34m.\u001b[0m\u001b[0mdata\u001b[0m\u001b[0;34m.\u001b[0m\u001b[0mWRI\u001b[0m\u001b[0;34m(\u001b[0m\u001b[0mfilter_other_dbs\u001b[0m\u001b[0;34m=\u001b[0m\u001b[0mFalse\u001b[0m\u001b[0;34m)\u001b[0m \u001b[0;31m#could also match with pm.data.CARMA()\u001b[0m\u001b[0;34m\u001b[0m\u001b[0m\n\u001b[1;32m      4\u001b[0m \u001b[0;31m#assume all hydro are rors\u001b[0m\u001b[0;34m\u001b[0m\u001b[0;34m\u001b[0m\u001b[0m\n\u001b[1;32m      5\u001b[0m \u001b[0mppl\u001b[0m\u001b[0;34m,\u001b[0m \u001b[0mror\u001b[0m  \u001b[0;34m=\u001b[0m \u001b[0mppl\u001b[0m\u001b[0;34m[\u001b[0m\u001b[0mppl\u001b[0m\u001b[0;34m.\u001b[0m\u001b[0mFueltype\u001b[0m \u001b[0;34m!=\u001b[0m \u001b[0;34m'Hydro'\u001b[0m\u001b[0;34m]\u001b[0m\u001b[0;34m,\u001b[0m \u001b[0mppl\u001b[0m\u001b[0;34m[\u001b[0m\u001b[0mppl\u001b[0m\u001b[0;34m.\u001b[0m\u001b[0mFueltype\u001b[0m \u001b[0;34m==\u001b[0m \u001b[0;34m'Hydro'\u001b[0m\u001b[0;34m]\u001b[0m\u001b[0;34m\u001b[0m\u001b[0m\n",
      "\u001b[0;31mAttributeError\u001b[0m: 'module' object has no attribute 'set_target_countries'"
     ]
    }
   ],
   "source": [
    "#add generators from pm \n",
    "pm.config.set_target_countries('Vietnam')\n",
    "ppl = pm.data.WRI(filter_other_dbs=False) #could also match with pm.data.CARMA()\n",
    "#assume all hydro are rors\n",
    "ppl, ror  = ppl[ppl.Fueltype != 'Hydro'], ppl[ppl.Fueltype == 'Hydro'] \n",
    "pm.export.to_pypsa_network(ppl, n)"
   ]
  },
  {
   "cell_type": "code",
   "execution_count": 22,
   "metadata": {},
   "outputs": [
    {
     "name": "stdout",
     "output_type": "stream",
     "text": [
      "Serving call to countries from file vresutils.shapes.countries_ver3__subset.VN.pickle of cache: 416.0 usec\n"
     ]
    }
   ],
   "source": [
    "vietshape = vshapes.countries(subset=['VN'])['VN']\n",
    "onshore_locs = n.buses.loc[:, [\"x\", \"y\"]]\n",
    "regions = gpd.GeoDataFrame({\n",
    "                            'geometry': voronoi_partition_pts(onshore_locs.values, vietshape),\n",
    "                            'country': 'VN'}, index=onshore_locs.index).rename_axis('bus')"
   ]
  },
  {
   "cell_type": "code",
   "execution_count": 27,
   "metadata": {},
   "outputs": [
    {
     "name": "stderr",
     "output_type": "stream",
     "text": [
      "INFO:atlite.cutout:Assuming a view into the prepared cutout: <Cutout vietnam-2015-2016-era5 x=101.10-109.80 y=22.80-8.10 time=2015/1-2016/12 prepared>\n"
     ]
    }
   ],
   "source": [
    "#add layout for rors \n",
    "cutout = atlite.Cutout(\"vietnam-2015-2016-era5\", \n",
    "                       module='era5', \n",
    "                       bounds=[101,8, 110, 23],\n",
    "                       years=slice(2015,2016, None))\n",
    "layout = cutout.meta.drop(['height', 'time', 'year-month', 'lat', 'lon']).to_dataframe().reset_index()"
   ]
  },
  {
   "cell_type": "code",
   "execution_count": 28,
   "metadata": {},
   "outputs": [
    {
     "ename": "NameError",
     "evalue": "name 'ror' is not defined",
     "output_type": "error",
     "traceback": [
      "\u001b[0;31m---------------------------------------------------------------------------\u001b[0m",
      "\u001b[0;31mNameError\u001b[0m                                 Traceback (most recent call last)",
      "\u001b[0;32m<ipython-input-28-b2d7d5a58a15>\u001b[0m in \u001b[0;36m<module>\u001b[0;34m()\u001b[0m\n\u001b[1;32m      1\u001b[0m \u001b[0mkdtree\u001b[0m \u001b[0;34m=\u001b[0m \u001b[0mKDTree\u001b[0m\u001b[0;34m(\u001b[0m\u001b[0mlayout\u001b[0m\u001b[0;34m[\u001b[0m\u001b[0;34m[\u001b[0m\u001b[0;34m'x'\u001b[0m\u001b[0;34m,\u001b[0m\u001b[0;34m'y'\u001b[0m\u001b[0;34m]\u001b[0m\u001b[0;34m]\u001b[0m\u001b[0;34m.\u001b[0m\u001b[0mvalues\u001b[0m\u001b[0;34m)\u001b[0m\u001b[0;34m\u001b[0m\u001b[0m\n\u001b[0;32m----> 2\u001b[0;31m ror_grouped = (ror.assign(cell = layout.index[kdtree.query(ror[['lon','lat']].values)[1]])\n\u001b[0m\u001b[1;32m      3\u001b[0m                .groupby(['Fueltype','cell']).Capacity.sum() )\n",
      "\u001b[0;31mNameError\u001b[0m: name 'ror' is not defined"
     ]
    }
   ],
   "source": [
    "kdtree = KDTree(layout[['x','y']].values)\n",
    "ror_grouped = (ror.assign(cell = layout.index[kdtree.query(ror[['lon','lat']].values)[1]])\n",
    "               .groupby(['Fueltype','cell']).Capacity.sum() )"
   ]
  },
  {
   "cell_type": "code",
   "execution_count": null,
   "metadata": {},
   "outputs": [],
   "source": [
    "ror_layout = (pd.concat([layout, ror_grouped.unstack(0)], axis=1)\n",
    "          .set_index(['x','y'])\n",
    "          .fillna(0).to_xarray().transpose())['Hydro']\n",
    "\n",
    "\n",
    "#%% add solar, wind\n",
    "\n",
    "indicatormatrix = cutout.indicatormatrix(regions.geometry)\n",
    "\n",
    "method = {'onshore':'wind', \n",
    "          'offshore':'wind', \n",
    "          'solar':'pv', \n",
    "          'ror':'runoff'}\n",
    "\n",
    "resource = {'onshore' : {'turbine': 'Vestas_V112_3MW'}, \n",
    "            'offshore' : {'turbine': 'NREL_ReferenceTurbine_5MW_offshore'},\n",
    "            'solar' : {'panel': 'CSi', 'orientation': 'latitude_optimal'},\n",
    "            'ror' : {'layout': ror_layout} }\n",
    "\n",
    "correction_factor = {'onshore':1, \n",
    "                     'offshore':1, \n",
    "                     'solar':0.882, \n",
    "                     'ror':1}\n",
    "\n",
    "for carrier in method.keys():\n",
    "    print(carrier)\n",
    "\n",
    "    func = getattr(cutout, method[carrier])\n",
    "    profile, capacities = func(matrix=indicatormatrix, index=regions.index,\n",
    "                           per_unit=True, \n",
    "                           return_capacity=True, **resource[carrier])\n",
    "        \n",
    "    profile = (correction_factor[carrier] * profile.to_pandas().T\n",
    "                           .rename(columns=lambda x: x + ' ' + carrier))\n",
    "\n",
    "    if carrier=='ror':\n",
    "#        assume ror generation statistics \n",
    "#        from https://www.hydropower.org/country-profiles/vietnam\n",
    "        stats = pd.Series([52., 52.], index=[2015, 2016]) * 1e3\n",
    "        gen_per_year = (profile.groupby(pd.Grouper(freq='y')).sum() * \n",
    "                         capacities.to_series().rename(index= lambda x : x + ' ' + carrier)\n",
    "                        ).sum(1).rename(index=lambda x : x.year)\n",
    "        scale_factor = (1/ gen_per_year * stats)\n",
    "        profile = profile.mul(pd.Series(n.snapshots.year, \n",
    "                                        index=n.snapshots\n",
    "                                        ).map(scale_factor), axis=0)\n",
    "\n",
    "    n.madd('Generator', names = capacities.bus + ' ' + carrier,\n",
    "                 bus=capacities.bus, carrier=carrier, \n",
    "                 p_nom = capacities,\n",
    "                 p_max_pu = profile)\n",
    "\n",
    "n.export_to_netcdf('vietnam.nc')"
   ]
  }
 ],
 "metadata": {
  "kernelspec": {
   "display_name": "Python 2",
   "language": "python",
   "name": "python2"
  },
  "language_info": {
   "codemirror_mode": {
    "name": "ipython",
    "version": 2
   },
   "file_extension": ".py",
   "mimetype": "text/x-python",
   "name": "python",
   "nbconvert_exporter": "python",
   "pygments_lexer": "ipython2",
   "version": "2.7.12"
  }
 },
 "nbformat": 4,
 "nbformat_minor": 2
}
