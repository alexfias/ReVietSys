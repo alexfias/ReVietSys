{
 "cells": [
  {
   "cell_type": "code",
   "execution_count": 1,
   "metadata": {},
   "outputs": [],
   "source": [
    "import pypsa \n",
    "import atlite \n",
    "import vresutils.shapes as vshapes\n",
    "from vresutils.graph import voronoi_partition_pts\n",
    "import geopandas as gpd\n",
    "import powerplantmatching as pm\n",
    "import pandas as pd\n",
    "from scipy.spatial import KDTree\n",
    "import numpy as np\n",
    "import geopandas as gpd\n",
    "\n",
    "from pypsa.opt import Constraint as Con\n",
    "\n",
    "import matplotlib.pyplot as plt\n",
    "%matplotlib inline\n",
    "import xarray as xr"
   ]
  },
  {
   "cell_type": "code",
   "execution_count": 2,
   "metadata": {},
   "outputs": [
    {
     "name": "stdout",
     "output_type": "stream",
     "text": [
      "resi\r\n"
     ]
    }
   ],
   "source": [
    "!hostname"
   ]
  },
  {
   "cell_type": "markdown",
   "metadata": {},
   "source": [
    "# Build Model"
   ]
  },
  {
   "cell_type": "code",
   "execution_count": 2,
   "metadata": {},
   "outputs": [
    {
     "name": "stderr",
     "output_type": "stream",
     "text": [
      "INFO:pypsa.io:Imported network original-model_original-data has buses, carriers, generators, lines, loads\n"
     ]
    },
    {
     "name": "stdout",
     "output_type": "stream",
     "text": [
      "Serving call to countries from file vresutils.shapes.countries_ver3__subset.VN.pickle of cache: 19.5 msec\n"
     ]
    },
    {
     "name": "stderr",
     "output_type": "stream",
     "text": [
      "INFO:atlite.cutout:Assuming a view into the prepared cutout: <Cutout vietnam-2015-2016-era5 x=101.10-109.80 y=23.10-8.10 time=2015/1-2016/12 prepared>\n"
     ]
    },
    {
     "name": "stdout",
     "output_type": "stream",
     "text": [
      "solar\n"
     ]
    },
    {
     "name": "stderr",
     "output_type": "stream",
     "text": [
      "/home/vres/py/atlite/atlite/pv/solar_position.py:57: RuntimeWarning: invalid value encountered in arcsin\n",
      "  alt = np.arcsin(np.sin(lat)*np.sin(dec) + np.cos(lat)*np.cos(dec)*np.cos(h)).rename('altitude')\n",
      "/home/vres/py/atlite/atlite/pv/orientation.py:94: RuntimeWarning: invalid value encountered in less\n",
      "  cosincidence.values[cosincidence.values < 0.] = 0.\n"
     ]
    },
    {
     "name": "stdout",
     "output_type": "stream",
     "text": [
      "wind\n"
     ]
    },
    {
     "name": "stderr",
     "output_type": "stream",
     "text": [
      "/home/vres/lib/python2.7/site-packages/scipy/signal/signaltools.py:375: FutureWarning: Conversion of the second argument of issubdtype from `complex` to `np.complexfloating` is deprecated. In future, it will be treated as `np.complex128 == np.dtype(complex).type`.\n",
      "  complex_result = (np.issubdtype(in1.dtype, complex) or\n",
      "/home/vres/lib/python2.7/site-packages/scipy/signal/signaltools.py:376: FutureWarning: Conversion of the second argument of issubdtype from `complex` to `np.complexfloating` is deprecated. In future, it will be treated as `np.complex128 == np.dtype(complex).type`.\n",
      "  np.issubdtype(in2.dtype, complex))\n"
     ]
    },
    {
     "name": "stdout",
     "output_type": "stream",
     "text": [
      "hydro\n"
     ]
    },
    {
     "ename": "AttributeError",
     "evalue": "'tuple' object has no attribute 'rolling'",
     "output_type": "error",
     "traceback": [
      "\u001b[0;31m---------------------------------------------------------------------------\u001b[0m",
      "\u001b[0;31mAttributeError\u001b[0m                            Traceback (most recent call last)",
      "\u001b[0;32m<ipython-input-2-19a7a8f41d8b>\u001b[0m in \u001b[0;36m<module>\u001b[0;34m()\u001b[0m\n\u001b[1;32m    122\u001b[0m     \u001b[0mfunc\u001b[0m \u001b[0;34m=\u001b[0m \u001b[0mgetattr\u001b[0m\u001b[0;34m(\u001b[0m\u001b[0mcutout\u001b[0m\u001b[0;34m,\u001b[0m \u001b[0mmethod\u001b[0m\u001b[0;34m[\u001b[0m\u001b[0mcarrier\u001b[0m\u001b[0;34m]\u001b[0m\u001b[0;34m)\u001b[0m\u001b[0;34m\u001b[0m\u001b[0m\n\u001b[1;32m    123\u001b[0m     profile, capacities = func(matrix=indicatormatrix, index=regions.index,\n\u001b[0;32m--> 124\u001b[0;31m                            return_capacity=True, **resource[carrier])\n\u001b[0m\u001b[1;32m    125\u001b[0m \u001b[0;34m\u001b[0m\u001b[0m\n\u001b[1;32m    126\u001b[0m     \u001b[0mprofile\u001b[0m \u001b[0;34m=\u001b[0m \u001b[0;34m(\u001b[0m\u001b[0mprofile\u001b[0m\u001b[0;34m.\u001b[0m\u001b[0mto_pandas\u001b[0m\u001b[0;34m(\u001b[0m\u001b[0;34m)\u001b[0m\u001b[0;34m.\u001b[0m\u001b[0mT\u001b[0m\u001b[0;34m.\u001b[0m\u001b[0mrename\u001b[0m\u001b[0;34m(\u001b[0m\u001b[0mcolumns\u001b[0m\u001b[0;34m=\u001b[0m\u001b[0;32mlambda\u001b[0m \u001b[0mx\u001b[0m\u001b[0;34m:\u001b[0m \u001b[0mx\u001b[0m \u001b[0;34m+\u001b[0m \u001b[0;34m' '\u001b[0m \u001b[0;34m+\u001b[0m \u001b[0mcarrier\u001b[0m\u001b[0;34m)\u001b[0m\u001b[0;34m)\u001b[0m\u001b[0;34m\u001b[0m\u001b[0m\n",
      "\u001b[0;32m/home/vres/py/atlite/atlite/convert.pyc\u001b[0m in \u001b[0;36mrunoff\u001b[0;34m(cutout, smooth, lower_threshold_quantile, normalize_using_yearly, **params)\u001b[0m\n\u001b[1;32m    464\u001b[0m     \u001b[0;32mif\u001b[0m \u001b[0msmooth\u001b[0m \u001b[0;32mis\u001b[0m \u001b[0;32mnot\u001b[0m \u001b[0mNone\u001b[0m\u001b[0;34m:\u001b[0m\u001b[0;34m\u001b[0m\u001b[0m\n\u001b[1;32m    465\u001b[0m         \u001b[0;32mif\u001b[0m \u001b[0msmooth\u001b[0m \u001b[0;32mis\u001b[0m \u001b[0mTrue\u001b[0m\u001b[0;34m:\u001b[0m \u001b[0msmooth\u001b[0m \u001b[0;34m=\u001b[0m \u001b[0;36m24\u001b[0m\u001b[0;34m*\u001b[0m\u001b[0;36m7\u001b[0m\u001b[0;34m\u001b[0m\u001b[0m\n\u001b[0;32m--> 466\u001b[0;31m         \u001b[0mresult\u001b[0m \u001b[0;34m=\u001b[0m \u001b[0mresult\u001b[0m\u001b[0;34m.\u001b[0m\u001b[0mrolling\u001b[0m\u001b[0;34m(\u001b[0m\u001b[0mtime\u001b[0m\u001b[0;34m=\u001b[0m\u001b[0msmooth\u001b[0m\u001b[0;34m,\u001b[0m \u001b[0mmin_periods\u001b[0m\u001b[0;34m=\u001b[0m\u001b[0;36m1\u001b[0m\u001b[0;34m)\u001b[0m\u001b[0;34m.\u001b[0m\u001b[0mmean\u001b[0m\u001b[0;34m(\u001b[0m\u001b[0;34m)\u001b[0m\u001b[0;34m\u001b[0m\u001b[0m\n\u001b[0m\u001b[1;32m    467\u001b[0m \u001b[0;34m\u001b[0m\u001b[0m\n\u001b[1;32m    468\u001b[0m     \u001b[0;32mif\u001b[0m \u001b[0mlower_threshold_quantile\u001b[0m \u001b[0;32mis\u001b[0m \u001b[0;32mnot\u001b[0m \u001b[0mNone\u001b[0m\u001b[0;34m:\u001b[0m\u001b[0;34m\u001b[0m\u001b[0m\n",
      "\u001b[0;31mAttributeError\u001b[0m: 'tuple' object has no attribute 'rolling'"
     ]
    }
   ],
   "source": [
    "n = pypsa.Network('original-model_original-data')\n",
    "\n",
    "#tranfer loads \n",
    "#rescale loads (in MW) to approx value of\n",
    "#https://www.worlddata.info/asia/vietnam/energy-consumption.php (in billion kWh)\n",
    "n.loads_t.p_set /= n.loads_t.p_set.sum().sum() * (134.3 * 1e9) / 1e3\n",
    "loads = n.loads_t.p_set.fillna(0).copy()\n",
    "n.set_snapshots(pd.DatetimeIndex(start='2015', end='2017', closed='left', freq='h'))\n",
    "n.loads_t.p_set = (pd.concat([loads.rename(index = lambda ds : ds - pd.Timedelta(270 - i * 52,'W'))\n",
    "                                 for i in [0,1,2]])\n",
    "                              [lambda df : ~df.index.duplicated()].reindex(n.snapshots))\n",
    "\n",
    "n.lines['type'] = '490-AL1/64-ST1A 380.0'\n",
    "n.lines['s_nom_min'] = (np.sqrt(3) * n.lines['type'].map(n.line_types.i_nom) *\n",
    "                   n.lines.bus0.map(n.buses.v_nom) * n.lines.num_parallel)\n",
    "\n",
    "\n",
    "storages = pd.read_csv('storage_units.csv', index_col=0)\n",
    "\n",
    "\n",
    "#drop generators\n",
    "n.mremove('Generator', n.generators.index)\n",
    "n.buses['substation_lv'] = True # assume all buses are substations\n",
    "\n",
    "#add generators from pm \n",
    "pm.config.set_target_countries('Vietnam')\n",
    "ppl = (pm.data.WRI(filter_other_dbs=False) #could also match with pm.data.CARMA()\n",
    "        .replace({'Fueltype': {'Natural Gas': 'OCGT', 'Hydro': 'hydro'}}))\n",
    "ppl.loc[ppl.Fueltype=='hydro', 'Set'] = 'Store'\n",
    "\n",
    "pm.export.to_pypsa_network(ppl, n)\n",
    "n.generators = n.generators.assign(p_nom_min = n.generators.p_nom).assign(p_nom_extendable = True)\n",
    "\n",
    "n.storage_units = (n.storage_units.assign(max_hours = \n",
    "                                         storages.max_hours.reindex(n.storage_units.index).fillna(0))\n",
    "                                 .assign(p_nom_min = n.storage_units.p_nom)\n",
    "                                 .assign(p_nom_extendable = True))\n",
    "\n",
    "#add artificial generators for vres \n",
    "for carrier in ['wind', 'solar']:\n",
    "    not_included = ((n.buses.index).difference(\n",
    "                        n.generators[n.generators.carrier == carrier].set_index('bus').index) )\n",
    "    n.madd('Generator', names = not_included + ' ' + carrier,\n",
    "                        bus = not_included, carrier=carrier, \n",
    "                        p_nom_extendable = True) \n",
    "\n",
    "not_included = ((n.buses.index).difference(\n",
    "                    n.storage_units[n.storage_units.carrier == 'hydro'].set_index('bus').index) )\n",
    "n.madd('StorageUnit', names = not_included + ' ' + 'hydro',\n",
    "                    bus = not_included, carrier='hydro',\n",
    "                    p_nom_extendable = True) \n",
    "\n",
    "\n",
    "vietshape = vshapes.countries(subset=['VN'])['VN']\n",
    "onshore_locs = n.buses.loc[:, [\"x\", \"y\"]]\n",
    "regions = gpd.GeoDataFrame({\n",
    "        'geometry': voronoi_partition_pts(onshore_locs.values, vietshape),\n",
    "        'country': 'VN'}, index=onshore_locs.index).rename_axis('bus')\n",
    "regions.crs = {'init': u'epsg:4326'}\n",
    "regions['Area'] = regions.geometry.to_crs({'init': 'epsg:3395'}).map(lambda p: p.area / 10**6)\n",
    "\n",
    "\n",
    "#%% add cutout\n",
    "    \n",
    "#TODO recalculate cutout\n",
    "cutout = atlite.Cutout(\"vietnam-2015-2016-era5\", \n",
    "                       module='era5', \n",
    "                       bounds=[101,8, 110, 24],\n",
    "                       years=slice(2015,2016, None))\n",
    "\n",
    "cells = gpd.GeoDataFrame({'geometry' : cutout.grid_cells()})\n",
    "cells.crs = {'init': u'epsg:4326'}\n",
    "cells['Area'] = cells.geometry.to_crs({'init': 'epsg:3395'}).map(lambda p: p.area / 10**6)\n",
    "\n",
    "meta = ( cutout.meta.drop(['height', 'time', 'year-month', 'lat', 'lon'])\n",
    "                 .to_dataframe().reset_index() )\n",
    "\n",
    "indicatormatrix = cutout.indicatormatrix(regions.geometry)\n",
    "\n",
    "#%% add layouts\n",
    "\n",
    "def custum_layout(meta, cap_per_sq_km):\n",
    "    return meta.assign(caps = cells.Area * cap_per_sq_km).set_index(['x','y']) \\\n",
    "                .fillna(0).to_xarray().transpose().caps\n",
    "\n",
    "#hydro\n",
    "kdtree = KDTree(meta[['x','y']].values)\n",
    "hydro = ppl[ppl.Fueltype.isin(['hydro'])] \n",
    "hydro_grouped = (hydro.assign(\n",
    "                cell = meta.index[kdtree.query(hydro[['lon','lat']].values)[1]])\n",
    "                             .groupby(['Fueltype','cell']).Capacity.sum() )\n",
    "\n",
    "#fill p_nom_max density for unbuilt capacities\n",
    "#alternative could be 25% quantile of cell density \n",
    "hydro_missing_cap = ((n.storage_units.groupby(['carrier', 'bus']).p_nom.sum()['hydro'] / regions.Area)\n",
    "                        [lambda ds:ds != 0].min())\n",
    "\n",
    "#expand upper bound for existing capacities by 15% \n",
    "hydro_layout = (pd.concat([meta, hydro_grouped.unstack(0)], axis=1)\n",
    "          .set_index(['x','y']).mul(1.15) \n",
    "          .fillna(hydro_missing_cap).to_xarray().transpose())\n",
    "\n",
    "#%% calaculate profile via atlite\n",
    "\n",
    "method = {'wind':'wind', \n",
    "          'solar':'pv', \n",
    "          'hydro':'runoff'}\n",
    "\n",
    "resource = {'wind' : {'turbine': 'Vestas_V112_3MW',\n",
    "                         'layout': custum_layout(meta, 10),\n",
    "                         'per_unit':True, 'smooth':True\n",
    "                         }, \n",
    "            'solar' : {'panel': 'CSi', 'orientation': 'latitude_optimal',\n",
    "                       'layout' : custum_layout(meta, 170), \n",
    "                       'per_unit':True},\n",
    "            'hydro' : {'layout': custum_layout(meta, hydro_missing_cap), \n",
    "                     'per_unit':False,\n",
    "                     'smooth':True} }\n",
    "\n",
    "\n",
    "for carrier in method.keys():\n",
    "    print(carrier)\n",
    "\n",
    "    func = getattr(cutout, method[carrier])\n",
    "    profile, capacities = func(matrix=indicatormatrix, index=regions.index,\n",
    "                           return_capacity=True, **resource[carrier])\n",
    "        \n",
    "    profile = (profile.to_pandas().T.rename(columns=lambda x: x + ' ' + carrier))\n",
    "    capacities = capacities.to_series().rename(index = lambda ds: ds + ' ' + carrier) \n",
    "\n",
    "    if carrier=='hydro':\n",
    "#        assume hydro generation statistics \n",
    "#        from https://www.hydropower.org/country-profiles/vietnam\n",
    "        \n",
    "        capacities = n.storage_units.p_nom_min.where( n.storage_units.p_nom_min > 0, capacities)\n",
    "        inflow = profile * capacities\n",
    "        #assume about 10% will be spillage\n",
    "        inflow *= (120*1e6)/inflow.sum().reindex((n.storage_units.p_nom_min>0).index).sum() \n",
    "        n.storage_units_t.inflow = inflow\n",
    "        n.storage_units.p_nom_max = capacities * 1.1  \n",
    "\n",
    "    else:       \n",
    "        n.generators.loc[capacities.index, 'p_nom_max'] = capacities\n",
    "        n.generators_t.p_max_pu =  pd.concat( [n.generators_t.p_max_pu , profile], axis=1)\n",
    "\n",
    "\n",
    "#add costs\n",
    "costs = pd.read_csv('costs.csv', index_col=0)\n",
    "n.generators['marginal_cost'] = n.generators.carrier.map(costs.marginal)\n",
    "n.generators['capital_cost'] = n.generators.carrier.map(costs.capital)\n",
    "n.generators['weight'] = 1 \n",
    "n.storage_units['marginal_cost'] = n.storage_units.carrier.map(costs.marginal)\n",
    "n.storage_units['capital_cost'] = n.storage_units.carrier.map(costs.capital)\n",
    "n.lines.capital_cost =  n.lines.length\n",
    "\n",
    "\n",
    "#only assumptions, no research done on this yet\n",
    "n.carriers.loc['bioenergy', 'co2_emissions'] = 0.2\n",
    "n.carriers.loc['hard coal', 'co2_emissions'] = 1.\n",
    "n.carriers = n.carriers.rename(index= lambda ds: ds.lower()).rename(index= {'windon': 'wind'})\n",
    "\n",
    "n.export_to_netcdf('vietnam.nc')"
   ]
  },
  {
   "cell_type": "markdown",
   "metadata": {},
   "source": [
    "# Build Scenario"
   ]
  },
  {
   "cell_type": "code",
   "execution_count": null,
   "metadata": {},
   "outputs": [],
   "source": [
    "n = pypsa.Network('vietnam.nc')"
   ]
  },
  {
   "cell_type": "code",
   "execution_count": 199,
   "metadata": {},
   "outputs": [],
   "source": [
    "scenarios = pd.read_csv('scenario_limits.csv')\n",
    "scenarios = scenarios.set_index(scenarios['scenario']).drop(columns='scenario').dropna(axis=1)"
   ]
  },
  {
   "cell_type": "code",
   "execution_count": 200,
   "metadata": {
    "scrolled": true
   },
   "outputs": [
    {
     "data": {
      "text/html": [
       "<div>\n",
       "<style scoped>\n",
       "    .dataframe tbody tr th:only-of-type {\n",
       "        vertical-align: middle;\n",
       "    }\n",
       "\n",
       "    .dataframe tbody tr th {\n",
       "        vertical-align: top;\n",
       "    }\n",
       "\n",
       "    .dataframe thead th {\n",
       "        text-align: right;\n",
       "    }\n",
       "</style>\n",
       "<table border=\"1\" class=\"dataframe\">\n",
       "  <thead>\n",
       "    <tr style=\"text-align: right;\">\n",
       "      <th></th>\n",
       "      <th>cap_solar</th>\n",
       "      <th>cap_wind</th>\n",
       "      <th>cap_bioenergy</th>\n",
       "      <th>cap_hydro</th>\n",
       "      <th>cap_hard coal</th>\n",
       "      <th>cap_oil</th>\n",
       "      <th>cap_gas</th>\n",
       "      <th>cap_nuclear</th>\n",
       "      <th>total_capacities</th>\n",
       "      <th>increase_load</th>\n",
       "      <th>increase_generation</th>\n",
       "      <th>share_renewable</th>\n",
       "    </tr>\n",
       "    <tr>\n",
       "      <th>scenario</th>\n",
       "      <th></th>\n",
       "      <th></th>\n",
       "      <th></th>\n",
       "      <th></th>\n",
       "      <th></th>\n",
       "      <th></th>\n",
       "      <th></th>\n",
       "      <th></th>\n",
       "      <th></th>\n",
       "      <th></th>\n",
       "      <th></th>\n",
       "      <th></th>\n",
       "    </tr>\n",
       "  </thead>\n",
       "  <tbody>\n",
       "    <tr>\n",
       "      <th>2020</th>\n",
       "      <td>850</td>\n",
       "      <td>800</td>\n",
       "      <td>306</td>\n",
       "      <td>21600</td>\n",
       "      <td>26000</td>\n",
       "      <td>1065</td>\n",
       "      <td>9000</td>\n",
       "      <td>0</td>\n",
       "      <td>60000</td>\n",
       "      <td>1.787</td>\n",
       "      <td>1.826</td>\n",
       "      <td>0.070</td>\n",
       "    </tr>\n",
       "    <tr>\n",
       "      <th>2025</th>\n",
       "      <td>4000</td>\n",
       "      <td>2000</td>\n",
       "      <td>559</td>\n",
       "      <td>24600</td>\n",
       "      <td>47600</td>\n",
       "      <td>1775</td>\n",
       "      <td>15000</td>\n",
       "      <td>0</td>\n",
       "      <td>96500</td>\n",
       "      <td>2.722</td>\n",
       "      <td>2.776</td>\n",
       "      <td>0.085</td>\n",
       "    </tr>\n",
       "    <tr>\n",
       "      <th>2030</th>\n",
       "      <td>12000</td>\n",
       "      <td>6000</td>\n",
       "      <td>1407</td>\n",
       "      <td>27800</td>\n",
       "      <td>55300</td>\n",
       "      <td>2248</td>\n",
       "      <td>19000</td>\n",
       "      <td>4600</td>\n",
       "      <td>129500</td>\n",
       "      <td>3.965</td>\n",
       "      <td>3.996</td>\n",
       "      <td>0.100</td>\n",
       "    </tr>\n",
       "  </tbody>\n",
       "</table>\n",
       "</div>"
      ],
      "text/plain": [
       "          cap_solar  cap_wind  cap_bioenergy  cap_hydro  cap_hard coal  \\\n",
       "scenario                                                                 \n",
       "2020            850       800            306      21600          26000   \n",
       "2025           4000      2000            559      24600          47600   \n",
       "2030          12000      6000           1407      27800          55300   \n",
       "\n",
       "          cap_oil  cap_gas  cap_nuclear  total_capacities  increase_load  \\\n",
       "scenario                                                                   \n",
       "2020         1065     9000            0             60000          1.787   \n",
       "2025         1775    15000            0             96500          2.722   \n",
       "2030         2248    19000         4600            129500          3.965   \n",
       "\n",
       "          increase_generation  share_renewable  \n",
       "scenario                                        \n",
       "2020                    1.826            0.070  \n",
       "2025                    2.776            0.085  \n",
       "2030                    3.996            0.100  "
      ]
     },
     "execution_count": 200,
     "metadata": {},
     "output_type": "execute_result"
    }
   ],
   "source": [
    "scenarios"
   ]
  },
  {
   "cell_type": "code",
   "execution_count": 201,
   "metadata": {},
   "outputs": [],
   "source": [
    "limits = scenarios.loc[2020]\n",
    "flexibility = 0.1"
   ]
  },
  {
   "cell_type": "code",
   "execution_count": 203,
   "metadata": {},
   "outputs": [
    {
     "data": {
      "text/plain": [
       "Index([u'cap_solar', u'cap_wind', u'cap_bioenergy', u'cap_hydro',\n",
       "       u'cap_hard coal', u'cap_oil', u'cap_gas', u'cap_nuclear',\n",
       "       u'total_capacities', u'increase_load', u'increase_generation',\n",
       "       u'share_renewable'],\n",
       "      dtype='object')"
      ]
     },
     "execution_count": 203,
     "metadata": {},
     "output_type": "execute_result"
    }
   ],
   "source": [
    "limits.index"
   ]
  },
  {
   "cell_type": "code",
   "execution_count": null,
   "metadata": {},
   "outputs": [],
   "source": [
    "limits = scenarios['2020']\n",
    "\n",
    "def scenario_constraints(n,snapshots,limits=None,flexibility=0.1): \n",
    "    for carrier in limits.index:    \n",
    "         index = n.generators[n.generators['carrier']==carrier].index\n",
    "        \n",
    "        setattr(n.model,carrier+\"_limit_low\",Con(expr=sum(n.model.generator_p_nom[name] \\\n",
    "                                              for name in index) >= limits[carrier] * (1.-flexibility)))\n",
    "        setattr(n.model,carrier+\"_limit_up\",Con(expr=sum(n.model.generator_p_nom[name] \\\n",
    "                                             for name in index) <= limits[carrier] * (1.+flexibility)))\n",
    "    return\n",
    "\n",
    "\n",
    "\n",
    "def set_constraints(network, snapshots):\n",
    "    return scenario_constraints(network, snapshots, limits = limits, flexibility = flexibility)"
   ]
  },
  {
   "cell_type": "code",
   "execution_count": null,
   "metadata": {},
   "outputs": [],
   "source": [
    "n.lopf(extra_functionality = set_constraints,\n",
    "       snapshots=n.snapshots[0:1000], solver_name='gurobi', solver_options={\"threads\":4}, \n",
    "       formulation='kirchhoff')\n",
    "\n",
    "n.name = 'vietname_2015_2016'\n",
    "n.export_to_netcdf('vietnam_2015_2016.nc')"
   ]
  },
  {
   "cell_type": "markdown",
   "metadata": {},
   "source": [
    "# Plot"
   ]
  },
  {
   "cell_type": "code",
   "execution_count": null,
   "metadata": {},
   "outputs": [],
   "source": [
    "n = pypsa.Network('vietnam_2015_2016.nc')\n",
    "\n",
    "#%%\n",
    "capas = n.generators.groupby(['bus','carrier']).p_nom_opt.mean().fillna(0.)\n",
    "lines = n.lines.groupby(['bus0', 'bus1']).s_nom_opt.mean().fillna(0.)\n",
    "\n",
    "capas = capas.loc[capas.index.levels[0][capas.groupby(level='bus').sum()!=0],:]\n",
    "\n",
    "plotcapas = capas\n",
    "plotlines = lines\n",
    "\n",
    "fig, ax = plt.subplots(1,1, figsize=(10,10))\n",
    "\n",
    "bus_scale = 4e4\n",
    "link_scale = 5e1\n",
    "\n",
    "colors = dict(zip(['ocgt','wind','hydro','solar', 'hard coal', 'oil', 'bioenergy'],\n",
    "                  ['blue','green','navy','yellow', 'brown', 'k', 'darkgreen']))\n",
    "\n",
    "n.plot(bus_sizes=plotcapas/bus_scale, bus_colors=colors, ax=ax,\n",
    "             line_widths={'Link':0.0, 'Line':plotlines/link_scale},\n",
    "             line_colors={'Link':'purple', 'Line':'indianred'})"
   ]
  }
 ],
 "metadata": {
  "kernelspec": {
   "display_name": "Python 2",
   "language": "python",
   "name": "python2"
  },
  "language_info": {
   "codemirror_mode": {
    "name": "ipython",
    "version": 2
   },
   "file_extension": ".py",
   "mimetype": "text/x-python",
   "name": "python",
   "nbconvert_exporter": "python",
   "pygments_lexer": "ipython2",
   "version": "2.7.12"
  }
 },
 "nbformat": 4,
 "nbformat_minor": 2
}
