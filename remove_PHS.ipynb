{
 "cells": [
  {
   "cell_type": "code",
   "execution_count": 1,
   "metadata": {},
   "outputs": [],
   "source": [
    "import pypsa \n",
    "import atlite \n",
    "import vresutils.shapes as vshapes\n",
    "from vresutils.graph import voronoi_partition_pts\n",
    "import geopandas as gpd\n",
    "import powerplantmatching as pm\n",
    "import pandas as pd\n",
    "from scipy.spatial import KDTree\n",
    "import numpy as np\n",
    "import geopandas as gpd\n",
    "\n",
    "from pypsa.opt import Constraint as Con\n",
    "\n",
    "import matplotlib.pyplot as plt\n",
    "%matplotlib inline\n",
    "import xarray as xr"
   ]
  },
  {
   "cell_type": "code",
   "execution_count": 2,
   "metadata": {},
   "outputs": [
    {
     "name": "stdout",
     "output_type": "stream",
     "text": [
      "resi\r\n"
     ]
    }
   ],
   "source": [
    "!hostname"
   ]
  },
  {
   "cell_type": "code",
   "execution_count": 3,
   "metadata": {},
   "outputs": [
    {
     "name": "stderr",
     "output_type": "stream",
     "text": [
      "INFO:pypsa.io:Imported network vietnam3_PHS.nc has buses, carriers, generators, lines, loads, storage_units\n"
     ]
    }
   ],
   "source": [
    "n = pypsa.Network('./vietnam3_PHS.nc')"
   ]
  }
 ],
 "metadata": {
  "kernelspec": {
   "display_name": "Python 3",
   "language": "python",
   "name": "python3"
  },
  "language_info": {
   "codemirror_mode": {
    "name": "ipython",
    "version": 3
   },
   "file_extension": ".py",
   "mimetype": "text/x-python",
   "name": "python",
   "nbconvert_exporter": "python",
   "pygments_lexer": "ipython3",
   "version": "3.5.2"
  }
 },
 "nbformat": 4,
 "nbformat_minor": 2
}
